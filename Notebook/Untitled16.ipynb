{
  "cells": [
    {
      "cell_type": "markdown",
      "metadata": {
        "id": "TFM-Ghswfzjw"
      },
      "source": [
        "# **Predictive Maintenance for Agricultural Tractors**\n",
        "# Audio Anomaly Detection using MIMII + Freesound Tractor Data"
      ]
    },
    {
      "cell_type": "markdown",
      "metadata": {
        "id": "6hX_VXdOb-N6"
      },
      "source": [
        "# **PART 1: Model Training & Comparison**\n",
        "\n",
        "**Objective:**  \n",
        "Train multiple ML/DL models on the **MIMII pump dataset** to detect industrial anomalies from sound.\n",
        "\n",
        "**Models to Compare:**  \n",
        "| Type | Model |\n",
        "|------|-------|\n",
        "| Traditional ML | KNN, Isolation Forest, SVM |\n",
        "| Deep Learning | CNN, VGG-like CNN, **ResNet-like CNN** |\n",
        "\n",
        "**Goal:**  \n",
        "- Extract MFCC features  \n",
        "- Train all models  \n",
        "- Compare using **F1-score, AUC-ROC, PR-AUC**  \n",
        "- **Select best model** → proceed to transfer learning\n",
        "\n",
        "**Why MIMII?**  \n",
        "- Publically available, labeled, industrial sound dataset  \n",
        "- Ideal for baseline training before tractor adaptation"
      ]
    },
    {
      "cell_type": "markdown",
      "metadata": {
        "id": "PbeeQTssdSSF"
      },
      "source": [
        "# Imports & Setup"
      ]
    },
    {
      "cell_type": "code",
      "execution_count": 2,
      "metadata": {
        "id": "M0xMc01kbyHC"
      },
      "outputs": [
        {
          "name": "stderr",
          "output_type": "stream",
          "text": [
            "c:\\Users\\jishi\\OneDrive\\Desktop\\tractorcare\\.venv\\Lib\\site-packages\\pydub\\utils.py:170: RuntimeWarning: Couldn't find ffmpeg or avconv - defaulting to ffmpeg, but may not work\n",
            "  warn(\"Couldn't find ffmpeg or avconv - defaulting to ffmpeg, but may not work\", RuntimeWarning)\n"
          ]
        }
      ],
      "source": [
        "# --------------------------------------------------------------\n",
        "# 1. Imports & Global Setup\n",
        "# --------------------------------------------------------------\n",
        "import os, json, random, time, warnings\n",
        "from pathlib import Path\n",
        "from tqdm import tqdm\n",
        "\n",
        "import numpy as np, pandas as pd\n",
        "import matplotlib.pyplot as plt, seaborn as sns\n",
        "\n",
        "import librosa\n",
        "from pydub import AudioSegment\n",
        "\n",
        "from sklearn.model_selection import train_test_split\n",
        "from sklearn.preprocessing import StandardScaler\n",
        "from sklearn.neighbors import KNeighborsClassifier\n",
        "from sklearn.ensemble import IsolationForest\n",
        "from sklearn.svm import SVC\n",
        "from sklearn.metrics import (accuracy_score, precision_score, recall_score, f1_score,\n",
        "                             classification_report, confusion_matrix,\n",
        "                             roc_auc_score, average_precision_score)\n",
        "from sklearn.utils import resample\n",
        "\n",
        "import tensorflow as tf\n",
        "from tensorflow.keras.models import Sequential, Model\n",
        "from tensorflow.keras.layers import (Conv2D, MaxPooling2D, Dense, Flatten, Dropout,\n",
        "                                     BatchNormalization, GlobalAveragePooling2D, Input, Add, ReLU)\n",
        "from tensorflow.keras.optimizers import Adam\n",
        "from tensorflow.keras.callbacks import EarlyStopping, ReduceLROnPlateau # Added ReduceLROnPlateau\n",
        "import joblib\n",
        "\n",
        "warnings.filterwarnings('ignore')\n",
        "plt.style.use('seaborn-v0_8-darkgrid')\n",
        "sns.set_palette(\"husl\")\n",
        "\n",
        "# Reproducibility\n",
        "np.random.seed(42)\n",
        "tf.random.set_seed(42)\n",
        "random.seed(42)"
      ]
    },
    {
      "cell_type": "markdown",
      "metadata": {
        "id": "MewV39TBdZpq"
      },
      "source": [
        "# Config Class"
      ]
    },
    {
      "cell_type": "code",
      "execution_count": 3,
      "metadata": {
        "colab": {
          "base_uri": "https://localhost:8080/"
        },
        "id": "9QaLnSkccMbS",
        "outputId": "6b2d771d-7db0-44d2-976a-021a27882ad1"
      },
      "outputs": [
        {
          "name": "stdout",
          "output_type": "stream",
          "text": [
            "Config initialized\n"
          ]
        }
      ],
      "source": [
        "# --------------------------------------------------------------\n",
        "# 2. Configuration\n",
        "# --------------------------------------------------------------\n",
        "class Config:\n",
        "    def __init__(self, environment='colab'):\n",
        "        self.environment = environment\n",
        "        self.sample_rate = 16000\n",
        "        self.duration = 10\n",
        "        self.n_mfcc = 40\n",
        "        self.max_len = 100\n",
        "        self.test_size = 0.2\n",
        "        self.validation_split = 0.2\n",
        "        self.random_state = 42\n",
        "        self.epochs = 20\n",
        "        self.batch_size = 32\n",
        "        self.early_stopping_patience = 5\n",
        "        self.apply_highpass = False\n",
        "\n",
        "        # Traditional ML Model Parameters\n",
        "        self.knn_params = {'n_neighbors': 5}\n",
        "        self.iso_forest_params = {'n_estimators': 100, 'contamination': 'auto', 'random_state': self.random_state}\n",
        "        self.svm_params = {'kernel': 'rbf', 'probability': True, 'random_state': self.random_state}\n",
        "\n",
        "\n",
        "        if environment == 'colab':\n",
        "            from google.colab import drive\n",
        "            drive.mount('/content/drive')\n",
        "            self.base_path = Path(\"/content/drive/My Drive/TractorCare/data/pump/\")\n",
        "            self.output_dir = Path(\"/content/drive/My Drive/TractorCare/outputs/\")\n",
        "        else:\n",
        "            self.base_path = Path(\"./data/pump/\")\n",
        "            self.output_dir = Path(\"./outputs/\")\n",
        "        self.output_dir.mkdir(parents=True, exist_ok=True)\n",
        "\n",
        "    def get_mimii_files(self):\n",
        "        normal, abnormal = [], []\n",
        "        for mid in [\"id_00\", \"id_02\", \"id_04\", \"id_06\"]:\n",
        "            n_dir = self.base_path / mid / \"normal\"\n",
        "            a_dir = self.base_path / mid / \"abnormal\"\n",
        "            if n_dir.exists():\n",
        "                normal.extend([str(f) for f in n_dir.glob(\"*.wav\")])\n",
        "            if a_dir.exists():\n",
        "                abnormal.extend([str(f) for f in a_dir.glob(\"*.wav\")])\n",
        "        return normal, abnormal\n",
        "\n",
        "    def save_config(self):\n",
        "        path = self.output_dir / 'config.json'\n",
        "        # Convert Path objects to strings for JSON serialization\n",
        "        config_dict = vars(self).copy()\n",
        "        config_dict['base_path'] = str(config_dict['base_path'])\n",
        "        config_dict['output_dir'] = str(config_dict['output_dir'])\n",
        "        with open(path, 'w') as f:\n",
        "            json.dump(config_dict, f, indent=4)\n",
        "        print(f\"Config saved: {path}\")\n",
        "\n",
        "config = Config(environment='local')\n",
        "print(\"Config initialized\")"
      ]
    },
    {
      "cell_type": "markdown",
      "metadata": {
        "id": "oKp0HK1tdk4Z"
      },
      "source": [
        "# Feature Extraction Functions"
      ]
    },
    {
      "cell_type": "code",
      "execution_count": 5,
      "metadata": {
        "colab": {
          "base_uri": "https://localhost:8080/"
        },
        "id": "XBqj0q2xcdAx",
        "outputId": "da988c38-b217-4ffa-bd60-f5351f10db69"
      },
      "outputs": [
        {
          "name": "stdout",
          "output_type": "stream",
          "text": [
            "Feature extractors ready\n"
          ]
        }
      ],
      "source": [
        "# --------------------------------------------------------------\n",
        "# 3. Feature Extraction\n",
        "# --------------------------------------------------------------\n",
        "def extract_mfcc_stats(audio_file, cfg):\n",
        "    \"\"\"Extract statistical features from MFCCs for traditional ML.\"\"\"\n",
        "    try:\n",
        "        y, _ = librosa.load(audio_file, sr=cfg.sample_rate, duration=cfg.duration)\n",
        "        mfcc = librosa.feature.mfcc(y=y, sr=cfg.sample_rate, n_mfcc=cfg.n_mfcc)\n",
        "        stats = np.concatenate([\n",
        "            mfcc.mean(axis=1), mfcc.std(axis=1),\n",
        "            mfcc.min(axis=1), mfcc.max(axis=1)\n",
        "        ])\n",
        "        return stats\n",
        "    except Exception as e:\n",
        "        print(f\"Error (stats): {audio_file} → {e}\")\n",
        "        return None\n",
        "\n",
        "def extract_mfcc_full(audio_file, cfg):\n",
        "    \"\"\"Extract full MFCC matrix for CNN input.\"\"\"\n",
        "    try:\n",
        "        y, _ = librosa.load(audio_file, sr=cfg.sample_rate, duration=cfg.duration)\n",
        "        mfcc = librosa.feature.mfcc(y=y, sr=cfg.sample_rate, n_mfcc=cfg.n_mfcc)\n",
        "        if mfcc.shape[1] > cfg.max_len:\n",
        "            mfcc = mfcc[:, :cfg.max_len]\n",
        "        else:\n",
        "            mfcc = np.pad(mfcc, ((0,0), (0, cfg.max_len - mfcc.shape[1])))\n",
        "        return mfcc\n",
        "    except Exception as e:\n",
        "        print(f\"Error (full): {audio_file} → {e}\")\n",
        "        return None\n",
        "\n",
        "print(\"Feature extractors ready\")"
      ]
    },
    {
      "cell_type": "markdown",
      "metadata": {
        "id": "gmqWEDSXdy3K"
      },
      "source": [
        "# Load & Balance MIMII Data"
      ]
    },
    {
      "cell_type": "code",
      "execution_count": 6,
      "metadata": {
        "colab": {
          "base_uri": "https://localhost:8080/"
        },
        "id": "FlNdcNVBcg7A",
        "outputId": "685c80f0-1e42-4b07-e22d-b42f560cdccc"
      },
      "outputs": [
        {
          "name": "stdout",
          "output_type": "stream",
          "text": [
            "Original Normal : 0\n",
            "Original Abnormal: 0\n"
          ]
        },
        {
          "ename": "InvalidParameterError",
          "evalue": "The 'n_samples' parameter of resample must be an int in the range [1, inf) or None. Got 0 instead.",
          "output_type": "error",
          "traceback": [
            "\u001b[31m---------------------------------------------------------------------------\u001b[39m",
            "\u001b[31mInvalidParameterError\u001b[39m                     Traceback (most recent call last)",
            "\u001b[36mCell\u001b[39m\u001b[36m \u001b[39m\u001b[32mIn[6]\u001b[39m\u001b[32m, line 10\u001b[39m\n\u001b[32m      7\u001b[39m \u001b[38;5;28mprint\u001b[39m(\u001b[33mf\u001b[39m\u001b[33m\"\u001b[39m\u001b[33mOriginal Abnormal: \u001b[39m\u001b[38;5;132;01m{\u001b[39;00m\u001b[38;5;28mlen\u001b[39m(abnormal_files)\u001b[38;5;132;01m}\u001b[39;00m\u001b[33m\"\u001b[39m)\n\u001b[32m      9\u001b[39m \u001b[38;5;66;03m# Balance classes\u001b[39;00m\n\u001b[32m---> \u001b[39m\u001b[32m10\u001b[39m normal_bal = \u001b[43mresample\u001b[49m\u001b[43m(\u001b[49m\u001b[43mnormal_files\u001b[49m\u001b[43m,\u001b[49m\u001b[43m \u001b[49m\u001b[43mn_samples\u001b[49m\u001b[43m=\u001b[49m\u001b[38;5;28;43mlen\u001b[39;49m\u001b[43m(\u001b[49m\u001b[43mabnormal_files\u001b[49m\u001b[43m)\u001b[49m\u001b[43m,\u001b[49m\u001b[43m \u001b[49m\u001b[43mrandom_state\u001b[49m\u001b[43m=\u001b[49m\u001b[43mconfig\u001b[49m\u001b[43m.\u001b[49m\u001b[43mrandom_state\u001b[49m\u001b[43m)\u001b[49m\n\u001b[32m     11\u001b[39m all_files = normal_bal + abnormal_files\n\u001b[32m     12\u001b[39m all_labels = [\u001b[32m0\u001b[39m] * \u001b[38;5;28mlen\u001b[39m(normal_bal) + [\u001b[32m1\u001b[39m] * \u001b[38;5;28mlen\u001b[39m(abnormal_files)\n",
            "\u001b[36mFile \u001b[39m\u001b[32mc:\\Users\\jishi\\OneDrive\\Desktop\\tractorcare\\.venv\\Lib\\site-packages\\sklearn\\utils\\_param_validation.py:208\u001b[39m, in \u001b[36mvalidate_params.<locals>.decorator.<locals>.wrapper\u001b[39m\u001b[34m(*args, **kwargs)\u001b[39m\n\u001b[32m    205\u001b[39m to_ignore += [\u001b[33m\"\u001b[39m\u001b[33mself\u001b[39m\u001b[33m\"\u001b[39m, \u001b[33m\"\u001b[39m\u001b[33mcls\u001b[39m\u001b[33m\"\u001b[39m]\n\u001b[32m    206\u001b[39m params = {k: v \u001b[38;5;28;01mfor\u001b[39;00m k, v \u001b[38;5;129;01min\u001b[39;00m params.arguments.items() \u001b[38;5;28;01mif\u001b[39;00m k \u001b[38;5;129;01mnot\u001b[39;00m \u001b[38;5;129;01min\u001b[39;00m to_ignore}\n\u001b[32m--> \u001b[39m\u001b[32m208\u001b[39m \u001b[43mvalidate_parameter_constraints\u001b[49m\u001b[43m(\u001b[49m\n\u001b[32m    209\u001b[39m \u001b[43m    \u001b[49m\u001b[43mparameter_constraints\u001b[49m\u001b[43m,\u001b[49m\u001b[43m \u001b[49m\u001b[43mparams\u001b[49m\u001b[43m,\u001b[49m\u001b[43m \u001b[49m\u001b[43mcaller_name\u001b[49m\u001b[43m=\u001b[49m\u001b[43mfunc\u001b[49m\u001b[43m.\u001b[49m\u001b[34;43m__qualname__\u001b[39;49m\n\u001b[32m    210\u001b[39m \u001b[43m\u001b[49m\u001b[43m)\u001b[49m\n\u001b[32m    212\u001b[39m \u001b[38;5;28;01mtry\u001b[39;00m:\n\u001b[32m    213\u001b[39m     \u001b[38;5;28;01mwith\u001b[39;00m config_context(\n\u001b[32m    214\u001b[39m         skip_parameter_validation=(\n\u001b[32m    215\u001b[39m             prefer_skip_nested_validation \u001b[38;5;129;01mor\u001b[39;00m global_skip_validation\n\u001b[32m    216\u001b[39m         )\n\u001b[32m    217\u001b[39m     ):\n",
            "\u001b[36mFile \u001b[39m\u001b[32mc:\\Users\\jishi\\OneDrive\\Desktop\\tractorcare\\.venv\\Lib\\site-packages\\sklearn\\utils\\_param_validation.py:98\u001b[39m, in \u001b[36mvalidate_parameter_constraints\u001b[39m\u001b[34m(parameter_constraints, params, caller_name)\u001b[39m\n\u001b[32m     92\u001b[39m \u001b[38;5;28;01melse\u001b[39;00m:\n\u001b[32m     93\u001b[39m     constraints_str = (\n\u001b[32m     94\u001b[39m         \u001b[33mf\u001b[39m\u001b[33m\"\u001b[39m\u001b[38;5;132;01m{\u001b[39;00m\u001b[33m'\u001b[39m\u001b[33m, \u001b[39m\u001b[33m'\u001b[39m.join([\u001b[38;5;28mstr\u001b[39m(c)\u001b[38;5;250m \u001b[39m\u001b[38;5;28;01mfor\u001b[39;00m\u001b[38;5;250m \u001b[39mc\u001b[38;5;250m \u001b[39m\u001b[38;5;129;01min\u001b[39;00m\u001b[38;5;250m \u001b[39mconstraints[:-\u001b[32m1\u001b[39m]])\u001b[38;5;132;01m}\u001b[39;00m\u001b[33m or\u001b[39m\u001b[33m\"\u001b[39m\n\u001b[32m     95\u001b[39m         \u001b[33mf\u001b[39m\u001b[33m\"\u001b[39m\u001b[33m \u001b[39m\u001b[38;5;132;01m{\u001b[39;00mconstraints[-\u001b[32m1\u001b[39m]\u001b[38;5;132;01m}\u001b[39;00m\u001b[33m\"\u001b[39m\n\u001b[32m     96\u001b[39m     )\n\u001b[32m---> \u001b[39m\u001b[32m98\u001b[39m \u001b[38;5;28;01mraise\u001b[39;00m InvalidParameterError(\n\u001b[32m     99\u001b[39m     \u001b[33mf\u001b[39m\u001b[33m\"\u001b[39m\u001b[33mThe \u001b[39m\u001b[38;5;132;01m{\u001b[39;00mparam_name\u001b[38;5;132;01m!r}\u001b[39;00m\u001b[33m parameter of \u001b[39m\u001b[38;5;132;01m{\u001b[39;00mcaller_name\u001b[38;5;132;01m}\u001b[39;00m\u001b[33m must be\u001b[39m\u001b[33m\"\u001b[39m\n\u001b[32m    100\u001b[39m     \u001b[33mf\u001b[39m\u001b[33m\"\u001b[39m\u001b[33m \u001b[39m\u001b[38;5;132;01m{\u001b[39;00mconstraints_str\u001b[38;5;132;01m}\u001b[39;00m\u001b[33m. Got \u001b[39m\u001b[38;5;132;01m{\u001b[39;00mparam_val\u001b[38;5;132;01m!r}\u001b[39;00m\u001b[33m instead.\u001b[39m\u001b[33m\"\u001b[39m\n\u001b[32m    101\u001b[39m )\n",
            "\u001b[31mInvalidParameterError\u001b[39m: The 'n_samples' parameter of resample must be an int in the range [1, inf) or None. Got 0 instead."
          ]
        }
      ],
      "source": [
        "# --------------------------------------------------------------\n",
        "# 4. Load & Balance MIMII Dataset\n",
        "# --------------------------------------------------------------\n",
        "normal_files, abnormal_files = config.get_mimii_files()\n",
        "\n",
        "print(f\"Original Normal : {len(normal_files)}\")\n",
        "print(f\"Original Abnormal: {len(abnormal_files)}\")\n",
        "\n",
        "# Balance classes\n",
        "normal_bal = resample(normal_files, n_samples=len(abnormal_files), random_state=config.random_state)\n",
        "all_files = normal_bal + abnormal_files\n",
        "all_labels = [0] * len(normal_bal) + [1] * len(abnormal_files)\n",
        "\n",
        "print(f\"\\nBalanced Normal : {len(normal_bal)}\")\n",
        "print(f\"Abnormal        : {len(abnormal_files)}\")\n",
        "print(f\"Total           : {len(all_files)}\")"
      ]
    },
    {
      "cell_type": "markdown",
      "metadata": {
        "id": "iTzzKGftd3-b"
      },
      "source": [
        "#  Features Extraction Function"
      ]
    },
    {
      "cell_type": "code",
      "execution_count": 24,
      "metadata": {
        "colab": {
          "base_uri": "https://localhost:8080/"
        },
        "id": "1L8maZnzpB7x",
        "outputId": "cd9841e2-8d7c-4bb7-f3f0-e90d069c7063"
      },
      "outputs": [
        {
          "name": "stdout",
          "output_type": "stream",
          "text": [
            " Feature extraction functions defined\n"
          ]
        }
      ],
      "source": [
        "def extract_mfcc_features(file_path, config):\n",
        "\n",
        "    try:\n",
        "        # Load audio\n",
        "        audio, sr = librosa.load(\n",
        "            file_path,\n",
        "            sr=config.sample_rate,\n",
        "            duration=config.duration\n",
        "        )\n",
        "\n",
        "        # Optional high-pass filter to reduce low-frequency noise\n",
        "        if config.apply_highpass:\n",
        "            from scipy.signal import butter, filtfilt\n",
        "            nyquist = sr / 2\n",
        "            cutoff = 100  # Hz\n",
        "            b, a = butter(4, cutoff / nyquist, btype='high')\n",
        "            audio = filtfilt(b, a, audio)\n",
        "\n",
        "        # Extract MFCCs\n",
        "        mfcc = librosa.feature.mfcc(\n",
        "            y=audio,\n",
        "            sr=sr,\n",
        "            n_mfcc=config.n_mfcc\n",
        "        )\n",
        "\n",
        "        # Pad or truncate to fixed length\n",
        "        if mfcc.shape[1] < config.max_len:\n",
        "            pad_width = config.max_len - mfcc.shape[1]\n",
        "            mfcc = np.pad(mfcc, pad_width=((0, 0), (0, pad_width)), mode='constant')\n",
        "        else:\n",
        "            mfcc = mfcc[:, :config.max_len]\n",
        "\n",
        "        return mfcc\n",
        "\n",
        "    except Exception as e:\n",
        "        print(f\"✗ Error processing {file_path}: {str(e)}\")\n",
        "        return None\n",
        "\n",
        "\n",
        "def compute_statistics(mfcc):\n",
        "\n",
        "    # Basic statistics\n",
        "    mean = np.mean(mfcc, axis=1)\n",
        "    std = np.std(mfcc, axis=1)\n",
        "    maximum = np.max(mfcc, axis=1)\n",
        "    minimum = np.min(mfcc, axis=1)\n",
        "    median = np.median(mfcc, axis=1)\n",
        "\n",
        "    # Delta features (velocity)\n",
        "    delta = librosa.feature.delta(mfcc)\n",
        "    delta_mean = np.mean(delta, axis=1)\n",
        "    delta_std = np.std(delta, axis=1)\n",
        "\n",
        "    # Delta-Delta features (acceleration)\n",
        "    delta2 = librosa.feature.delta(mfcc, order=2)\n",
        "    delta2_mean = np.mean(delta2, axis=1)\n",
        "    delta2_std = np.std(delta2, axis=1)\n",
        "\n",
        "    # Concatenate all features\n",
        "    stats = np.concatenate([\n",
        "        mean, std, maximum, minimum, median,\n",
        "        delta_mean, delta_std, delta2_mean, delta2_std\n",
        "    ])\n",
        "\n",
        "    return stats\n",
        "\n",
        "\n",
        "def extract_features_batch(file_paths, labels, config, desc=\"Extracting features\"):\n",
        "\n",
        "    X_mfcc = []\n",
        "    X_stats = []\n",
        "    y = []\n",
        "    valid_files = []\n",
        "    failed_count = 0\n",
        "\n",
        "    for file_path, label in tqdm(zip(file_paths, labels),\n",
        "                                  total=len(file_paths),\n",
        "                                  desc=desc):\n",
        "        mfcc = extract_mfcc_features(file_path, config)\n",
        "\n",
        "        if mfcc is not None:\n",
        "            X_mfcc.append(mfcc)\n",
        "            X_stats.append(compute_statistics(mfcc))\n",
        "            y.append(label)\n",
        "            valid_files.append(file_path)\n",
        "        else:\n",
        "            failed_count += 1\n",
        "\n",
        "    print(f\"\\n Successfully processed: {len(valid_files)} files\")\n",
        "    if failed_count > 0:\n",
        "        print(f\"✗ Failed to process: {failed_count} files\")\n",
        "\n",
        "    return (np.array(X_mfcc), np.array(X_stats),\n",
        "            np.array(y), valid_files)\n",
        "\n",
        "print(\" Feature extraction functions defined\")"
      ]
    },
    {
      "cell_type": "code",
      "execution_count": 25,
      "metadata": {
        "colab": {
          "base_uri": "https://localhost:8080/"
        },
        "id": "_v0XOm2-py__",
        "outputId": "6499c9f7-572b-424b-919b-73384bcd68dc"
      },
      "outputs": [
        {
          "name": "stderr",
          "output_type": "stream",
          "text": [
            "Extracting features from balanced dataset: 100%|██████████| 912/912 [00:38<00:00, 23.61it/s]\n"
          ]
        },
        {
          "name": "stdout",
          "output_type": "stream",
          "text": [
            "\n",
            " Successfully processed: 912 files\n",
            "Feature Extraction Complete:\n",
            "============================================================\n",
            "MFCC features shape For CNNs: (912, 40, 100)\n",
            "Statistical features shape for traditional ML: (912, 360)\n",
            "Labels shape: (912,)\n"
          ]
        }
      ],
      "source": [
        "# Combine file paths and create labels\n",
        "all_files = normal_bal + abnormal_files\n",
        "all_labels = [0] * len(normal_bal) + [1] * len(abnormal_files)\n",
        "\n",
        "# Extract features from all files\n",
        "X_mfcc, X_stats, y, valid_files = extract_features_batch(\n",
        "    all_files,\n",
        "    all_labels,\n",
        "    config,\n",
        "    desc=\"Extracting features from balanced dataset\"\n",
        ")\n",
        "\n",
        "\n",
        "print(\"Feature Extraction Complete:\")\n",
        "print(f\"{'='*60}\")\n",
        "print(f\"MFCC features shape For CNNs: {X_mfcc.shape}\")\n",
        "print(f\"Statistical features shape for traditional ML: {X_stats.shape}\")\n",
        "print(f\"Labels shape: {y.shape}\")"
      ]
    },
    {
      "cell_type": "code",
      "execution_count": 26,
      "metadata": {
        "colab": {
          "base_uri": "https://localhost:8080/",
          "height": 296
        },
        "id": "Fu7oPNa5mblV",
        "outputId": "b99144d0-ebc5-4581-ba0c-f5be31f4ead9"
      },
      "outputs": [
        {
          "data": {
            "image/png": "[encoded data removed]",
            "text/plain": [
              "<Figure size 1600x500 with 2 Axes>"
            ]
          },
          "metadata": {},
          "output_type": "display_data"
        },
        {
          "name": "stdout",
          "output_type": "stream",
          "text": [
            "Visualization saved to /content/drive/My Drive/TractorCare/outputs/mfcc_comparison.png\n"
          ]
        }
      ],
      "source": [
        "# --------------------------------------------------------------\n",
        "# Visualize Sample Features\n",
        "# --------------------------------------------------------------\n",
        "# Find indices of one normal and one abnormal sample from the loaded data\n",
        "# Ensure indices are from the filtered data\n",
        "normal_indices = [i for i, label in enumerate(y) if label == 0]\n",
        "abnormal_indices = [i for i, label in enumerate(y) if label == 1]\n",
        "\n",
        "if not normal_indices or not abnormal_indices:\n",
        "    print(\"Could not find both normal and abnormal samples in the filtered data for visualization.\")\n",
        "else:\n",
        "    normal_idx = normal_indices[0]\n",
        "    abnormal_idx = abnormal_indices[0]\n",
        "\n",
        "    # Create visualization\n",
        "    fig, axes = plt.subplots(1, 2, figsize=(16, 5))\n",
        "\n",
        "    # Normal sample\n",
        "    librosa.display.specshow(X_mfcc[normal_idx].squeeze(), x_axis='time', ax=axes[0], cmap='viridis')\n",
        "    axes[0].set_title('Normal Pump - MFCC Features', fontsize=14, fontweight='bold')\n",
        "    axes[0].set_ylabel('MFCC Coefficients', fontsize=12)\n",
        "    axes[0].set_xlabel('Time Frames', fontsize=12)\n",
        "\n",
        "    # Abnormal sample\n",
        "    librosa.display.specshow(X_mfcc[abnormal_idx].squeeze(), x_axis='time', ax=axes[1], cmap='viridis')\n",
        "    axes[1].set_title('Abnormal Pump - MFCC Features', fontsize=14, fontweight='bold')\n",
        "    axes[1].set_ylabel('MFCC Coefficients', fontsize=12)\n",
        "    axes[1].set_xlabel('Time Frames', fontsize=12)\n",
        "\n",
        "    plt.tight_layout()\n",
        "    plt.savefig(config.output_dir / 'mfcc_comparison.png', dpi=300, bbox_inches='tight')\n",
        "    plt.show()\n",
        "\n",
        "    print(f\"Visualization saved to {config.output_dir / 'mfcc_comparison.png'}\")"
      ]
    },
    {
      "cell_type": "markdown",
      "metadata": {
        "id": "aMhUCGo8eGWj"
      },
      "source": [
        "# Traditional ML Models\n",
        "\n",
        "Split data for traditional models (using statistical features)"
      ]
    },
    {
      "cell_type": "code",
      "execution_count": 27,
      "metadata": {
        "colab": {
          "base_uri": "https://localhost:8080/"
        },
        "id": "AdKIk_VKcqcG",
        "outputId": "adcffb5b-80ff-43e7-f350-5136a92a4dc5"
      },
      "outputs": [
        {
          "name": "stdout",
          "output_type": "stream",
          "text": [
            "Traditional ML Data:\n",
            "============================================================\n",
            "Training set: (729, 360)\n",
            "Test set: (183, 360)\n"
          ]
        }
      ],
      "source": [
        "\n",
        "X_train_stats, X_test_stats, y_train_trad, y_test_trad = train_test_split(\n",
        "    X_stats, y,\n",
        "    test_size=config.test_size,\n",
        "    random_state=config.random_state,\n",
        "    stratify=y\n",
        ")\n",
        "\n",
        "# Scale features\n",
        "scaler = StandardScaler()\n",
        "X_train_stats_scaled = scaler.fit_transform(X_train_stats)\n",
        "X_test_stats_scaled = scaler.transform(X_test_stats)\n",
        "\n",
        "\n",
        "print(\"Traditional ML Data:\")\n",
        "print(f\"{'='*60}\")\n",
        "print(f\"Training set: {X_train_stats_scaled.shape}\")\n",
        "print(f\"Test set: {X_test_stats_scaled.shape}\")\n",
        "\n"
      ]
    },
    {
      "cell_type": "markdown",
      "metadata": {
        "id": "N4XxgLV8eNnI"
      },
      "source": [
        "# Deep Learning Models\n",
        "Split data for CNN models (using raw MFCC features)"
      ]
    },
    {
      "cell_type": "code",
      "execution_count": 28,
      "metadata": {
        "colab": {
          "base_uri": "https://localhost:8080/"
        },
        "id": "DsriiTLacvTi",
        "outputId": "cd83ba3d-bc45-490e-fe66-7ad9e38cad10"
      },
      "outputs": [
        {
          "name": "stdout",
          "output_type": "stream",
          "text": [
            "Deep Learning Data:\n",
            "============================================================\n",
            "Training set: (729, 40, 100, 1)\n",
            "Test set: (183, 40, 100, 1)\n",
            "Input shape for CNN: (40, 100, 1)\n"
          ]
        }
      ],
      "source": [
        "X_train_cnn, X_test_cnn, y_train_cnn, y_test_cnn = train_test_split(\n",
        "    X_mfcc, y,\n",
        "    test_size=config.test_size,\n",
        "    random_state=config.random_state,\n",
        "    stratify=y\n",
        ")\n",
        "\n",
        "# Reshape for CNN input (add channel dimension)\n",
        "X_train_cnn = X_train_cnn[..., np.newaxis]\n",
        "X_test_cnn = X_test_cnn[..., np.newaxis]\n",
        "\n",
        "print(\"Deep Learning Data:\")\n",
        "print(f\"{'='*60}\")\n",
        "print(f\"Training set: {X_train_cnn.shape}\")\n",
        "print(f\"Test set: {X_test_cnn.shape}\")\n",
        "print(f\"Input shape for CNN: {X_train_cnn.shape[1:]}\")\n"
      ]
    },
    {
      "cell_type": "markdown",
      "metadata": {
        "id": "4urQW2MrsWty"
      },
      "source": [
        "# **Model Architectures**\n",
        "\n",
        "Define functions to build different CNN architectures:\n",
        "1. **Simple CNN**\n",
        "2. **VGG-like CNN**\n",
        "3. **ResNet-like CNN**"
      ]
    },
    {
      "cell_type": "code",
      "execution_count": 29,
      "metadata": {
        "colab": {
          "base_uri": "https://localhost:8080/"
        },
        "id": "A97XJcz3cyyN",
        "outputId": "f64b3d01-c0d7-4ba0-dc48-1b3369731310"
      },
      "outputs": [
        {
          "name": "stdout",
          "output_type": "stream",
          "text": [
            " CNN model architectures defined\n"
          ]
        }
      ],
      "source": [
        "def build_simple_cnn(input_shape):\n",
        "    \"\"\"\n",
        "    Build a simple CNN architecture.\n",
        "\n",
        "    Architecture:\n",
        "    - 2 Conv blocks (32, 64 filters)\n",
        "    - MaxPooling after each conv block\n",
        "    - Fully connected layers with dropout\n",
        "    \"\"\"\n",
        "    model = Sequential([\n",
        "        Conv2D(32, (3, 3), activation='relu', input_shape=input_shape),\n",
        "        MaxPooling2D((2, 2)),\n",
        "\n",
        "        Conv2D(64, (3, 3), activation='relu'),\n",
        "        MaxPooling2D((2, 2)),\n",
        "\n",
        "        Flatten(),\n",
        "        Dense(64, activation='relu'),\n",
        "        Dropout(0.5),\n",
        "        Dense(1, activation='sigmoid')\n",
        "    ])\n",
        "\n",
        "    model.compile(\n",
        "        optimizer=Adam(learning_rate=0.001),\n",
        "        loss='binary_crossentropy',\n",
        "        metrics=['accuracy']\n",
        "    )\n",
        "\n",
        "    return model\n",
        "\n",
        "\n",
        "def build_vgg_cnn(input_shape):\n",
        "    \"\"\"\n",
        "    Build VGG-like CNN architecture.\n",
        "\n",
        "    Architecture:\n",
        "    - 3 VGG blocks (32, 64, 128 filters)\n",
        "    - Each block has 2 conv layers\n",
        "    - MaxPooling after each block\n",
        "    \"\"\"\n",
        "    model = Sequential([\n",
        "        # Block 1\n",
        "        Conv2D(32, (3, 3), activation='relu', padding='same', input_shape=input_shape),\n",
        "        Conv2D(32, (3, 3), activation='relu', padding='same'),\n",
        "        MaxPooling2D((2, 2)),\n",
        "\n",
        "        # Block 2\n",
        "        Conv2D(64, (3, 3), activation='relu', padding='same'),\n",
        "        Conv2D(64, (3, 3), activation='relu', padding='same'),\n",
        "        MaxPooling2D((2, 2)),\n",
        "\n",
        "        # Block 3\n",
        "        Conv2D(128, (3, 3), activation='relu', padding='same'),\n",
        "        Conv2D(128, (3, 3), activation='relu', padding='same'),\n",
        "        MaxPooling2D((2, 2)),\n",
        "\n",
        "        # Classifier\n",
        "        Flatten(),\n",
        "        Dense(128, activation='relu'),\n",
        "        Dropout(0.5),\n",
        "        Dense(1, activation='sigmoid')\n",
        "    ])\n",
        "\n",
        "    model.compile(\n",
        "        optimizer=Adam(learning_rate=0.001),\n",
        "        loss='binary_crossentropy',\n",
        "        metrics=['accuracy']\n",
        "    )\n",
        "\n",
        "    return model\n",
        "\n",
        "\n",
        "def resnet_block(x, filters, kernel_size=3, stride=1):\n",
        "    \"\"\"\n",
        "    Residual block for ResNet-like architecture.\n",
        "\n",
        "    Implements skip connection to allow gradient flow.\n",
        "    \"\"\"\n",
        "    # Main path\n",
        "    y = Conv2D(filters, kernel_size, strides=stride, padding='same', activation='relu')(x)\n",
        "    y = BatchNormalization()(y)\n",
        "    y = Conv2D(filters, kernel_size, strides=1, padding='same')(y)\n",
        "    y = BatchNormalization()(y)\n",
        "\n",
        "    # Skip connection\n",
        "    if stride != 1 or x.shape[-1] != filters:\n",
        "        x = Conv2D(filters, 1, strides=stride, padding='same')(x)\n",
        "        x = BatchNormalization()(x)\n",
        "\n",
        "    # Merge paths\n",
        "    out = Add()([x, y])\n",
        "    out = ReLU()(out)\n",
        "\n",
        "    return out\n",
        "\n",
        "\n",
        "def build_resnet_cnn(input_shape):\n",
        "    \"\"\"\n",
        "    Build ResNet-like CNN architecture.\n",
        "\n",
        "    Architecture:\n",
        "    - Initial conv layer\n",
        "    - 4 residual blocks\n",
        "    - Global average pooling\n",
        "    - Fully connected layers\n",
        "    \"\"\"\n",
        "    inputs = Input(shape=input_shape)\n",
        "\n",
        "    # Initial convolution\n",
        "    x = Conv2D(32, 7, strides=2, padding='same', activation='relu')(inputs)\n",
        "    x = BatchNormalization()(x)\n",
        "    x = MaxPooling2D(3, strides=2, padding='same')(x)\n",
        "\n",
        "    # Residual blocks\n",
        "    x = resnet_block(x, 32)\n",
        "    x = resnet_block(x, 32)\n",
        "    x = resnet_block(x, 64, stride=2)\n",
        "    x = resnet_block(x, 64)\n",
        "\n",
        "    # Classifier\n",
        "    x = GlobalAveragePooling2D()(x)\n",
        "    x = Dense(64, activation='relu')(x)\n",
        "    x = Dropout(0.5)(x)\n",
        "    outputs = Dense(1, activation='sigmoid')(x)\n",
        "\n",
        "    model = Model(inputs=inputs, outputs=outputs)\n",
        "\n",
        "    model.compile(\n",
        "        optimizer=Adam(learning_rate=0.001),\n",
        "        loss='binary_crossentropy',\n",
        "        metrics=['accuracy']\n",
        "    )\n",
        "\n",
        "    return model\n",
        "\n",
        "print(\" CNN model architectures defined\")"
      ]
    },
    {
      "cell_type": "markdown",
      "metadata": {
        "id": "SIRhUBLusxiY"
      },
      "source": [
        "# **Training Pipeline**\n",
        "\n",
        "Complete training pipeline with:\n",
        "- Progress tracking\n",
        "- Model evaluation\n",
        "- Results storage"
      ]
    },
    {
      "cell_type": "code",
      "execution_count": 30,
      "metadata": {
        "colab": {
          "base_uri": "https://localhost:8080/"
        },
        "id": "UiXKpJXvsr7R",
        "outputId": "79b881cb-857a-482e-c52a-b379848d1ac3"
      },
      "outputs": [
        {
          "name": "stdout",
          "output_type": "stream",
          "text": [
            " Training pipeline functions defined\n"
          ]
        }
      ],
      "source": [
        "def compute_metrics(y_true, y_pred, y_pred_proba=None):\n",
        "    \"\"\"Compute comprehensive evaluation metrics.\"\"\"\n",
        "    metrics = {\n",
        "        'accuracy': accuracy_score(y_true, y_pred),\n",
        "        'precision': precision_score(y_true, y_pred, zero_division=0),\n",
        "        'recall': recall_score(y_true, y_pred, zero_division=0),\n",
        "        'f1': f1_score(y_true, y_pred, zero_division=0),\n",
        "        'confusion_matrix': confusion_matrix(y_true, y_pred).tolist()\n",
        "    }\n",
        "\n",
        "    # Add ROC-AUC if probabilities are provided\n",
        "    if y_pred_proba is not None:\n",
        "        try:\n",
        "            metrics['roc_auc'] = roc_auc_score(y_true, y_pred_proba)\n",
        "        except:\n",
        "            metrics['roc_auc'] = None\n",
        "\n",
        "    return metrics\n",
        "\n",
        "\n",
        "def train_traditional_models(X_train, X_test, y_train, y_test, config):\n",
        "    \"\"\"Train all traditional ML models.\"\"\"\n",
        "    results = {}\n",
        "\n",
        "    print(f\"\\n{'='*60}\")\n",
        "    print(\"TRAINING TRADITIONAL ML MODELS\")\n",
        "    print(f\"{'='*60}\\n\")\n",
        "\n",
        "    # 1. K-Nearest Neighbors\n",
        "    print(\"Training K-Nearest Neighbors...\")\n",
        "    knn = KNeighborsClassifier(**config.knn_params)\n",
        "    knn.fit(X_train, y_train)\n",
        "    knn_pred = knn.predict(X_test)\n",
        "    knn_proba = knn.predict_proba(X_test)[:, 1]\n",
        "\n",
        "    results['KNN'] = {\n",
        "        'model': knn,\n",
        "        'predictions': knn_pred,\n",
        "        'metrics': compute_metrics(y_test, knn_pred, knn_proba)\n",
        "    }\n",
        "    print(f\"✓ KNN - Accuracy: {results['KNN']['metrics']['accuracy']:.4f}\")\n",
        "\n",
        "    # 2. Isolation Forest\n",
        "    print(\"\\nTraining Isolation Forest...\")\n",
        "    iso_forest = IsolationForest(**config.iso_forest_params)\n",
        "    iso_forest.fit(X_train)\n",
        "    iso_pred = iso_forest.predict(X_test)\n",
        "    iso_pred = (iso_pred == -1).astype(int)  # Convert -1/1 to 0/1\n",
        "\n",
        "    results['Isolation Forest'] = {\n",
        "        'model': iso_forest,\n",
        "        'predictions': iso_pred,\n",
        "        'metrics': compute_metrics(y_test, iso_pred)\n",
        "    }\n",
        "    print(f\"✓ Isolation Forest - Accuracy: {results['Isolation Forest']['metrics']['accuracy']:.4f}\")\n",
        "\n",
        "    # 3. Support Vector Machine\n",
        "    print(\"\\nTraining Support Vector Machine...\")\n",
        "    svm = SVC(**config.svm_params)\n",
        "    svm.fit(X_train, y_train)\n",
        "    svm_pred = svm.predict(X_test)\n",
        "    svm_proba = svm.predict_proba(X_test)[:, 1]\n",
        "\n",
        "    results['SVM'] = {\n",
        "        'model': svm,\n",
        "        'predictions': svm_pred,\n",
        "        'metrics': compute_metrics(y_test, svm_pred, svm_proba)\n",
        "    }\n",
        "    print(f\" SVM - Accuracy: {results['SVM']['metrics']['accuracy']:.4f}\")\n",
        "\n",
        "    return results\n",
        "\n",
        "\n",
        "def train_cnn_models(X_train, X_test, y_train, y_test, config):\n",
        "    \"\"\"Train all CNN models.\"\"\"\n",
        "    results = {}\n",
        "    input_shape = X_train.shape[1:]\n",
        "\n",
        "    # Callbacks\n",
        "    early_stop = EarlyStopping(\n",
        "        monitor='val_loss',\n",
        "        patience=config.early_stopping_patience,\n",
        "        restore_best_weights=True,\n",
        "        verbose=0\n",
        "    )\n",
        "\n",
        "    reduce_lr = ReduceLROnPlateau(\n",
        "        monitor='val_loss',\n",
        "        factor=0.5,\n",
        "        patience=3,\n",
        "        min_lr=1e-7,\n",
        "        verbose=0\n",
        "    )\n",
        "\n",
        "    print(f\"\\n{'='*60}\")\n",
        "    print(\"TRAINING DEEP LEARNING MODELS\")\n",
        "    print(f\"{'='*60}\\n\")\n",
        "\n",
        "    # 1. Simple CNN\n",
        "    print(\"Training Simple CNN...\")\n",
        "    cnn = build_simple_cnn(input_shape)\n",
        "    history_cnn = cnn.fit(\n",
        "        X_train, y_train,\n",
        "        validation_split=config.validation_split,\n",
        "        epochs=config.epochs,\n",
        "        batch_size=config.batch_size,\n",
        "        callbacks=[early_stop, reduce_lr],\n",
        "        verbose=0\n",
        "    )\n",
        "\n",
        "    cnn_pred_proba = cnn.predict(X_test, verbose=0).flatten()\n",
        "    cnn_pred = (cnn_pred_proba > 0.5).astype(int)\n",
        "\n",
        "    results['CNN'] = {\n",
        "        'model': cnn,\n",
        "        'predictions': cnn_pred,\n",
        "        'history': history_cnn.history, # Corrected: removed extra .history\n",
        "        'metrics': compute_metrics(y_test, cnn_pred, cnn_pred_proba)\n",
        "    }\n",
        "    print(f\" Simple CNN - Accuracy: {results['CNN']['metrics']['accuracy']:.4f}\")\n",
        "\n",
        "    # 2. VGG-like CNN\n",
        "    print(\"\\nTraining VGG-like CNN...\")\n",
        "    vgg = build_vgg_cnn(input_shape)\n",
        "    history_vgg = vgg.fit(\n",
        "        X_train, y_train,\n",
        "        validation_split=config.validation_split,\n",
        "        epochs=config.epochs,\n",
        "        batch_size=config.batch_size,\n",
        "        callbacks=[early_stop, reduce_lr],\n",
        "        verbose=0\n",
        "    )\n",
        "\n",
        "    vgg_pred_proba = vgg.predict(X_test, verbose=0).flatten()\n",
        "    vgg_pred = (vgg_pred_proba > 0.5).astype(int)\n",
        "\n",
        "    results['VGG-like CNN'] = {\n",
        "        'model': vgg,\n",
        "        'predictions': vgg_pred,\n",
        "        'history': history_vgg.history, # Corrected: removed extra .history\n",
        "        'metrics': compute_metrics(y_test, vgg_pred, vgg_pred_proba)\n",
        "    }\n",
        "    print(f\" VGG-like CNN - Accuracy: {results['VGG-like CNN']['metrics']['accuracy']:.4f}\")\n",
        "\n",
        "    # 3. ResNet-like CNN\n",
        "    print(\"\\nTraining ResNet-like CNN...\")\n",
        "    resnet = build_resnet_cnn(input_shape)\n",
        "    history_resnet = resnet.fit(\n",
        "        X_train, y_train,\n",
        "        validation_split=config.validation_split,\n",
        "        epochs=config.epochs,\n",
        "        batch_size=config.batch_size,\n",
        "        callbacks=[early_stop, reduce_lr],\n",
        "        verbose=0\n",
        "    )\n",
        "\n",
        "    resnet_pred_proba = resnet.predict(X_test, verbose=0).flatten()\n",
        "    resnet_pred = (resnet_pred_proba > 0.5).astype(int)\n",
        "\n",
        "    results['ResNet-like CNN'] = {\n",
        "        'model': resnet,\n",
        "        'predictions': resnet_pred,\n",
        "        'history': history_resnet.history, # Corrected: removed extra .history\n",
        "        'metrics': compute_metrics(y_test, resnet_pred, resnet_pred_proba)\n",
        "    }\n",
        "    print(f\" ResNet-like CNN - Accuracy: {results['ResNet-like CNN']['metrics']['accuracy']:.4f}\")\n",
        "\n",
        "    return results\n",
        "\n",
        "print(\" Training pipeline functions defined\")"
      ]
    },
    {
      "cell_type": "markdown",
      "metadata": {
        "id": "yiRYCj4-s5iH"
      },
      "source": [
        "# **Train All Models**\n",
        "\n",
        "Execute the complete training pipeline for both traditional ML and deep learning models."
      ]
    },
    {
      "cell_type": "code",
      "execution_count": 31,
      "metadata": {
        "colab": {
          "base_uri": "https://localhost:8080/"
        },
        "id": "6zGkfwSXtF6v",
        "outputId": "e5dc5c14-d2e4-4af6-e0f9-062252da385e"
      },
      "outputs": [
        {
          "name": "stdout",
          "output_type": "stream",
          "text": [
            "\n",
            "============================================================\n",
            "TRAINING TRADITIONAL ML MODELS\n",
            "============================================================\n",
            "\n",
            "Training K-Nearest Neighbors...\n",
            "✓ KNN - Accuracy: 0.9836\n",
            "\n",
            "Training Isolation Forest...\n",
            "✓ Isolation Forest - Accuracy: 0.5082\n",
            "\n",
            "Training Support Vector Machine...\n",
            " SVM - Accuracy: 0.9891\n",
            "\n",
            "============================================================\n",
            "TRAINING DEEP LEARNING MODELS\n",
            "============================================================\n",
            "\n",
            "Training Simple CNN...\n"
          ]
        },
        {
          "name": "stderr",
          "output_type": "stream",
          "text": [
            "WARNING:tensorflow:5 out of the last 13 calls to <function TensorFlowTrainer.make_predict_function.<locals>.one_step_on_data_distributed at 0x7f292dcd8e00> triggered tf.function retracing. Tracing is expensive and the excessive number of tracings could be due to (1) creating @tf.function repeatedly in a loop, (2) passing tensors with different shapes, (3) passing Python objects instead of tensors. For (1), please define your @tf.function outside of the loop. For (2), @tf.function has reduce_retracing=True option that can avoid unnecessary retracing. For (3), please refer to https://www.tensorflow.org/guide/function#controlling_retracing and https://www.tensorflow.org/api_docs/python/tf/function for  more details.\n"
          ]
        },
        {
          "name": "stdout",
          "output_type": "stream",
          "text": [
            " Simple CNN - Accuracy: 0.9672\n",
            "\n",
            "Training VGG-like CNN...\n",
            " VGG-like CNN - Accuracy: 0.9508\n",
            "\n",
            "Training ResNet-like CNN...\n",
            " ResNet-like CNN - Accuracy: 0.9836\n",
            " All models trained successfully!\n"
          ]
        }
      ],
      "source": [
        "# Train traditional ML models\n",
        "trad_results = train_traditional_models(\n",
        "    X_train_stats_scaled, X_test_stats_scaled,\n",
        "    y_train_trad, y_test_trad,\n",
        "    config\n",
        ")\n",
        "\n",
        "# Train CNN models\n",
        "cnn_results = train_cnn_models(\n",
        "    X_train_cnn, X_test_cnn,\n",
        "    y_train_cnn, y_test_cnn,\n",
        "    config\n",
        ")\n",
        "\n",
        "# Combine results\n",
        "all_results = {**trad_results, **cnn_results}\n",
        "print(\" All models trained successfully!\")\n"
      ]
    },
    {
      "cell_type": "markdown",
      "metadata": {
        "id": "85i_rm7SeVAT"
      },
      "source": [
        "# Model Comparison & Selection"
      ]
    },
    {
      "cell_type": "code",
      "execution_count": 32,
      "metadata": {
        "colab": {
          "base_uri": "https://localhost:8080/"
        },
        "id": "nJt2KNNwv4rM",
        "outputId": "96a14018-ab19-4d78-9105-e6bde513cff4"
      },
      "outputs": [
        {
          "name": "stdout",
          "output_type": "stream",
          "text": [
            "\n",
            "======================================================================\n",
            "MODEL PERFORMANCE COMPARISON\n",
            "======================================================================\n",
            "       Algorithm  Accuracy  Precision   Recall  F1-Score   ROC-AUC\n",
            "             SVM  0.989071   0.989011 0.989011  0.989011  0.998686\n",
            "             KNN  0.983607   0.988889 0.978022  0.983425  0.987637\n",
            " ResNet-like CNN  0.983607   1.000000 0.967033  0.983240       1.0\n",
            "             CNN  0.967213   0.967033 0.967033  0.967033  0.992953\n",
            "    VGG-like CNN  0.950820   0.955556 0.945055  0.950276  0.987219\n",
            "Isolation Forest  0.508197   1.000000 0.010989  0.021739       N/A\n",
            "======================================================================\n",
            "\n",
            " Results saved to /content/drive/My Drive/TractorCare/outputs/model_comparison_results.csv\n"
          ]
        }
      ],
      "source": [
        "# Create comparison DataFrame\n",
        "comparison_data = []\n",
        "\n",
        "for model_name, result in all_results.items():\n",
        "    metrics = result['metrics']\n",
        "    comparison_data.append({\n",
        "        'Algorithm': model_name,\n",
        "        'Accuracy': metrics['accuracy'],\n",
        "        'Precision': metrics['precision'],\n",
        "        'Recall': metrics['recall'],\n",
        "        'F1-Score': metrics['f1'],\n",
        "        'ROC-AUC': metrics.get('roc_auc', 'N/A')\n",
        "    })\n",
        "\n",
        "results_df = pd.DataFrame(comparison_data)\n",
        "results_df = results_df.sort_values('F1-Score', ascending=False).reset_index(drop=True)\n",
        "\n",
        "# Display results\n",
        "print(f\"\\n{'='*70}\")\n",
        "print(\"MODEL PERFORMANCE COMPARISON\")\n",
        "print(f\"{'='*70}\")\n",
        "print(results_df.to_string(index=False))\n",
        "print(f\"{'='*70}\\n\")\n",
        "\n",
        "# Save results\n",
        "results_path = config.output_dir / 'model_comparison_results.csv'\n",
        "results_df.to_csv(results_path, index=False)\n",
        "print(f\" Results saved to {results_path}\")\n",
        "\n",
        "# Identify best models\n",
        "best_overall = results_df.iloc[0]['Algorithm']\n",
        "best_traditional = results_df[~results_df['Algorithm'].str.contains('CNN')].iloc[0]['Algorithm']\n",
        "best_cnn = results_df[results_df['Algorithm'].str.contains('CNN')].iloc[0]['Algorithm']\n",
        "\n"
      ]
    },
    {
      "cell_type": "markdown",
      "metadata": {
        "id": "ReDYEipAed_z"
      },
      "source": [
        "# Save All Models"
      ]
    },
    {
      "cell_type": "code",
      "execution_count": 34,
      "metadata": {
        "colab": {
          "base_uri": "https://localhost:8080/"
        },
        "id": "PVXTHzFgw9eh",
        "outputId": "6298d439-42b4-44b9-fe0e-c55e389b625d"
      },
      "outputs": [
        {
          "name": "stderr",
          "output_type": "stream",
          "text": [
            "WARNING:absl:You are saving your model as an HDF5 file via `model.save()` or `keras.saving.save_model(model)`. This file format is considered legacy. We recommend using instead the native Keras format, e.g. `model.save('my_model.keras')` or `keras.saving.save_model(model, 'my_model.keras')`. \n",
            "WARNING:absl:You are saving your model as an HDF5 file via `model.save()` or `keras.saving.save_model(model)`. This file format is considered legacy. We recommend using instead the native Keras format, e.g. `model.save('my_model.keras')` or `keras.saving.save_model(model, 'my_model.keras')`. \n",
            "WARNING:absl:You are saving your model as an HDF5 file via `model.save()` or `keras.saving.save_model(model)`. This file format is considered legacy. We recommend using instead the native Keras format, e.g. `model.save('my_model.keras')` or `keras.saving.save_model(model, 'my_model.keras')`. \n"
          ]
        },
        {
          "name": "stdout",
          "output_type": "stream",
          "text": [
            "Config saved: /content/drive/My Drive/TractorCare/outputs/config.json\n",
            "\n",
            "All models and config saved\n"
          ]
        }
      ],
      "source": [
        "# --------------------------------------------------------------\n",
        "# 9. Save All Models & Scaler\n",
        "# --------------------------------------------------------------\n",
        "models_dir = config.output_dir / 'models'\n",
        "models_dir.mkdir(exist_ok=True)\n",
        "\n",
        "# Save scaler\n",
        "joblib.dump(scaler, models_dir / 'scaler.pkl')\n",
        "\n",
        "# Save all models\n",
        "for name, res in all_results.items():\n",
        "    if name in ['KNN', 'Isolation Forest', 'SVM']:\n",
        "        joblib.dump(res['model'], models_dir / f\"{name.lower().replace(' ', '_')}.pkl\")\n",
        "    else:\n",
        "        # Sanitize the name for saving\n",
        "        sanitized_name = name.lower().replace(' ', '_').replace('-', '_')\n",
        "        res['model'].save(models_dir / f\"{sanitized_name}.h5\")\n",
        "\n",
        "# Save best model (using best_overall from the previous cell)\n",
        "best_model_to_save_name = best_overall\n",
        "best_model = all_results[best_model_to_save_name]['model']\n",
        "\n",
        "# Sanitize the name for saving the best model file\n",
        "sanitized_best_model_name = best_model_to_save_name.lower().replace(' ', '_').replace('-', '_')\n",
        "\n",
        "if 'CNN' in best_model_to_save_name:\n",
        "    best_model.save(models_dir / f'{sanitized_best_model_name}_best_model.h5')\n",
        "else:\n",
        "    joblib.dump(best_model, models_dir / f'{sanitized_best_model_name}_best_model.pkl')\n",
        "\n",
        "# Convert Path objects in config to strings before saving\n",
        "config_to_save = vars(config).copy()\n",
        "config_to_save['base_path'] = str(config_to_save['base_path'])\n",
        "config_to_save['output_dir'] = str(config_to_save['output_dir'])\n",
        "\n",
        "config_path = config.output_dir / 'config.json'\n",
        "with open(config_path, 'w') as f:\n",
        "    json.dump(config_to_save, f, indent=4)\n",
        "print(f\"Config saved: {config_path}\")\n",
        "\n",
        "\n",
        "print(\"\\nAll models and config saved\")"
      ]
    },
    {
      "cell_type": "markdown",
      "metadata": {
        "id": "6X-Mkzs1hU6n"
      },
      "source": [
        "# **PART 2: Transfer Learning & Edge Deployment**\n",
        "\n",
        "**Objective:**  \n",
        "Apply **best model (ResNet-like CNN)** to real **tractor sounds** and simulate **edge AI deployment**.\n",
        "\n",
        "**Steps:**  \n",
        "1. Import & convert tractor audio  \n",
        "2. Transfer learning from MIMII → Tractor  \n",
        "3. Per-tractor baseline (Reality AI style)  \n",
        "4. Offline-first detection with adaptive learning  \n",
        "5. Final field test simulation (Rwanda)\n",
        "\n",
        "**Why Transfer Learning?**  \n",
        "- Limited labeled tractor data  \n",
        "- ResNet already learned industrial sound patterns  \n",
        "- Fine-tune with low LR → fast, effective"
      ]
    },
    {
      "cell_type": "code",
      "execution_count": 35,
      "metadata": {
        "colab": {
          "base_uri": "https://localhost:8080/"
        },
        "id": "GskS2wFrc43y",
        "outputId": "6ea1b0ed-d72c-43df-cd15-7d7793cf9e7f"
      },
      "outputs": [
        {
          "name": "stderr",
          "output_type": "stream",
          "text": [
            "Converting normal: 11it [00:00, 34.72it/s]\n",
            "Converting abnormal: 12it [00:00, 38.89it/s]"
          ]
        },
        {
          "name": "stdout",
          "output_type": "stream",
          "text": [
            "\n",
            "Tractor Normal   : 11\n",
            "Tractor Abnormal : 12\n"
          ]
        },
        {
          "name": "stderr",
          "output_type": "stream",
          "text": [
            "\n"
          ]
        }
      ],
      "source": [
        "# --------------------------------------------------------------\n",
        "# 1. Convert Tractor Audio to 16kHz Mono WAV\n",
        "# --------------------------------------------------------------\n",
        "!pip install -q pydub\n",
        "\n",
        "tractor_base = config.base_path.parent / \"tractor\"\n",
        "normal_dir = tractor_base / \"normal\"\n",
        "abnormal_dir = tractor_base / \"abnormal\"\n",
        "\n",
        "def convert_folder(folder):\n",
        "    wavs = []\n",
        "    for src in tqdm(folder.glob(\"*.*\"), desc=f\"Converting {folder.name}\"):\n",
        "        dst = src.with_suffix(\".wav\")\n",
        "        if not dst.exists():\n",
        "            audio = AudioSegment.from_file(src)\n",
        "            audio = audio.set_channels(1).set_frame_rate(config.sample_rate)\n",
        "            audio.export(dst, format=\"wav\")\n",
        "        wavs.append(str(dst))\n",
        "    return wavs\n",
        "\n",
        "tractor_normal_files = convert_folder(normal_dir)\n",
        "tractor_abnormal_files = convert_folder(abnormal_dir)\n",
        "\n",
        "print(f\"\\nTractor Normal   : {len(tractor_normal_files)}\")\n",
        "print(f\"Tractor Abnormal : {len(tractor_abnormal_files)}\")"
      ]
    },
    {
      "cell_type": "code",
      "execution_count": 62,
      "metadata": {
        "colab": {
          "base_uri": "https://localhost:8080/",
          "height": 248
        },
        "id": "JFVzb_uZc6_t",
        "outputId": "98f68697-4e16-47ca-9e6c-bf3b150a2920"
      },
      "outputs": [
        {
          "name": "stderr",
          "output_type": "stream",
          "text": [
            "WARNING:absl:Compiled the loaded model, but the compiled metrics have yet to be built. `model.compile_metrics` will be empty until you train or evaluate the model.\n"
          ]
        },
        {
          "ename": "TypeError",
          "evalue": "resample() got an unexpected keyword argument 'n_samples'",
          "output_type": "error",
          "traceback": [
            "\u001b[0;31m---------------------------------------------------------------------------\u001b[0m",
            "\u001b[0;31mTypeError\u001b[0m                                 Traceback (most recent call last)",
            "\u001b[0;32m/tmp/ipython-input-941782316.py\u001b[0m in \u001b[0;36m<cell line: 0>\u001b[0;34m()\u001b[0m\n\u001b[1;32m     26\u001b[0m \u001b[0;31m# Prepare tractor data\u001b[0m\u001b[0;34m\u001b[0m\u001b[0;34m\u001b[0m\u001b[0m\n\u001b[1;32m     27\u001b[0m \u001b[0;31m# Use resample directly as it's imported from sklearn.utils\u001b[0m\u001b[0;34m\u001b[0m\u001b[0;34m\u001b[0m\u001b[0m\n\u001b[0;32m---> 28\u001b[0;31m \u001b[0mtractor_bal\u001b[0m \u001b[0;34m=\u001b[0m \u001b[0mresample\u001b[0m\u001b[0;34m(\u001b[0m\u001b[0mtractor_normal_files\u001b[0m\u001b[0;34m,\u001b[0m \u001b[0mn_samples\u001b[0m\u001b[0;34m=\u001b[0m\u001b[0mlen\u001b[0m\u001b[0;34m(\u001b[0m\u001b[0mtractor_abnormal_files\u001b[0m\u001b[0;34m)\u001b[0m\u001b[0;34m,\u001b[0m \u001b[0mrandom_state\u001b[0m\u001b[0;34m=\u001b[0m\u001b[0;36m42\u001b[0m\u001b[0;34m)\u001b[0m\u001b[0;34m\u001b[0m\u001b[0;34m\u001b[0m\u001b[0m\n\u001b[0m\u001b[1;32m     29\u001b[0m \u001b[0mtractor_files\u001b[0m \u001b[0;34m=\u001b[0m \u001b[0mtractor_bal\u001b[0m \u001b[0;34m+\u001b[0m \u001b[0mtractor_abnormal_files\u001b[0m\u001b[0;34m\u001b[0m\u001b[0;34m\u001b[0m\u001b[0m\n\u001b[1;32m     30\u001b[0m \u001b[0mtractor_labels\u001b[0m \u001b[0;34m=\u001b[0m \u001b[0;34m[\u001b[0m\u001b[0;36m0\u001b[0m\u001b[0;34m]\u001b[0m\u001b[0;34m*\u001b[0m\u001b[0mlen\u001b[0m\u001b[0;34m(\u001b[0m\u001b[0mtractor_bal\u001b[0m\u001b[0;34m)\u001b[0m \u001b[0;34m+\u001b[0m \u001b[0;34m[\u001b[0m\u001b[0;36m1\u001b[0m\u001b[0;34m]\u001b[0m\u001b[0;34m*\u001b[0m\u001b[0mlen\u001b[0m\u001b[0;34m(\u001b[0m\u001b[0mtractor_abnormal_files\u001b[0m\u001b[0;34m)\u001b[0m\u001b[0;34m\u001b[0m\u001b[0;34m\u001b[0m\u001b[0m\n",
            "\u001b[0;31mTypeError\u001b[0m: resample() got an unexpected keyword argument 'n_samples'"
          ]
        }
      ],
      "source": [
        "# --------------------------------------------------------------\n",
        "# 2. Transfer Learning: MIMII ResNet → Tractor\n",
        "# --------------------------------------------------------------\n",
        "# Load best ResNet\n",
        "import sklearn\n",
        "resnet_path = models_dir / 'resnet_like_cnn.h5'\n",
        "pretrained = tf.keras.models.load_model(resnet_path)\n",
        "\n",
        "# Freeze early layers (unfreeze last 5 layers instead of 3)\n",
        "for layer in pretrained.layers[:-5]:\n",
        "    layer.trainable = False\n",
        "for layer in pretrained.layers[-5:]:\n",
        "    layer.trainable = True\n",
        "\n",
        "# Build transfer model using Functional API\n",
        "inputs = Input(shape=pretrained.input_shape[1:], name='input_transfer')\n",
        "x = pretrained(inputs) # Connect the output of the pretrained model\n",
        "x = Dense(128, activation='relu', name='transfer_dense1')(x)\n",
        "x = Dropout(0.3, name='transfer_dropout')(x)\n",
        "outputs = Dense(1, activation='sigmoid', name='transfer_output')(x)\n",
        "\n",
        "transfer_model = Model(inputs=inputs, outputs=outputs)\n",
        "\n",
        "transfer_model.compile(optimizer=Adam(1e-4), loss='binary_crossentropy', metrics=['accuracy'])\n",
        "\n",
        "# Prepare tractor data\n",
        "# Use resample directly as it's imported from sklearn.utils\n",
        "tractor_bal = resample(tractor_normal_files, n_samples=len(tractor_abnormal_files), random_state=42)\n",
        "tractor_files = tractor_bal + tractor_abnormal_files\n",
        "tractor_labels = [0]*len(tractor_bal) + [1]*len(tractor_abnormal_files)\n",
        "\n",
        "X_tractor = [np.expand_dims(extract_mfcc_full(f, config), -1) for f in tqdm(tractor_files, desc=\"Tractor MFCC\")]\n",
        "X_tractor = np.array([x for x in X_tractor if x is not None])\n",
        "y_tractor = tractor_labels[:len(X_tractor)]\n",
        "\n",
        "X_tr, X_te, y_tr, y_te = train_test_split(X_tractor, y_tractor, test_size=0.2, stratify=y_tractor, random_state=42)\n",
        "\n",
        "# Convert y_tr to a NumPy array\n",
        "y_tr = np.array(y_tr)\n",
        "\n",
        "# Train\n",
        "transfer_model.fit(X_tr, y_tr,\n",
        "                   validation_split=0.2,\n",
        "                   epochs=12,\n",
        "                   batch_size=16,\n",
        "                   callbacks=[EarlyStopping(patience=5, restore_best_weights=True)],\n",
        "                   verbose=1)\n",
        "\n",
        "# Save\n",
        "transfer_path = models_dir / 'tractor_resnet_transfer.h5'\n",
        "transfer_model.save(transfer_path)\n",
        "print(f\"Transfer model saved: {transfer_path}\")"
      ]
    },
    {
      "cell_type": "code",
      "execution_count": null,
      "metadata": {
        "id": "G3xRncryztbc"
      },
      "outputs": [],
      "source": [
        "# Save\n",
        "transfer_path = models_dir / 'tractor_resnet_transfer.h5'\n",
        "transfer_model.save(transfer_path)\n",
        "print(f\"Transfer model saved: {transfer_path}\")"
      ]
    }
  ],
  "metadata": {
    "accelerator": "GPU",
    "colab": {
      "gpuType": "T4",
      "provenance": []
    },
    "kernelspec": {
      "display_name": ".venv",
      "language": "python",
      "name": "python3"
    },
    "language_info": {
      "codemirror_mode": {
        "name": "ipython",
        "version": 3
      },
      "file_extension": ".py",
      "mimetype": "text/x-python",
      "name": "python",
      "nbconvert_exporter": "python",
      "pygments_lexer": "ipython3",
      "version": "3.13.1"
    }
  },
  "nbformat": 4,
  "nbformat_minor": 0
}
